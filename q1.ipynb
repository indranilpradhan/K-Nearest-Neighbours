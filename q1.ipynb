{
 "cells": [
  {
   "cell_type": "markdown",
   "metadata": {},
   "source": [
    "# KNN based classifier to predict digits from images of handwritten digits in the dataset"
   ]
  },
  {
   "cell_type": "code",
   "execution_count": 38,
   "metadata": {},
   "outputs": [],
   "source": [
    "import numpy as np\n",
    "import pandas as pd\n",
    "from numpy.random import RandomState\n",
    "from collections import Counter\n",
    "from sklearn.metrics import confusion_matrix\n",
    "from sklearn.metrics import classification_report\n",
    "from sklearn.neighbors import KNeighborsClassifier\n",
    "import matplotlib.pyplot as plt"
   ]
  },
  {
   "cell_type": "code",
   "execution_count": 12,
   "metadata": {},
   "outputs": [],
   "source": [
    "def accuracy(y_real, y_pred):\n",
    "#    print(\"y_real \",len(y_real))\n",
    "#    print(\"y_pred \",len(y_pred))\n",
    "    accuracy = np.sum(y_real == y_pred) / len(y_real)\n",
    "    return accuracy"
   ]
  },
  {
   "cell_type": "code",
   "execution_count": 13,
   "metadata": {},
   "outputs": [],
   "source": [
    "def euclidean_distance(row):\n",
    "    return np.sqrt(np.sum((X_train - row) ** 2, axis=1))"
   ]
  },
  {
   "cell_type": "code",
   "execution_count": 14,
   "metadata": {},
   "outputs": [],
   "source": [
    "def manhattan_distance(row):\n",
    "    return np.sum(np.abs(X_train-row), axis = 1)"
   ]
  },
  {
   "cell_type": "code",
   "execution_count": 15,
   "metadata": {},
   "outputs": [],
   "source": [
    "def prediction(row,k):\n",
    "    dist = euclidean_distance(row)\n",
    "    indexes = np.argsort(dist)[:k]\n",
    "    neighbors = Y_train[indexes]\n",
    "    match = Counter(neighbors).most_common(1)\n",
    "    #print(match[0][0])\n",
    "    return match[0][0]"
   ]
  },
  {
   "cell_type": "code",
   "execution_count": 16,
   "metadata": {},
   "outputs": [],
   "source": [
    "def prediction_manhattan(row,k):\n",
    "    dist = manhattan_distance(row)\n",
    "    indexes = np.argsort(dist)[:k]\n",
    "    neighbors = Y_train[indexes]\n",
    "    match = Counter(neighbors).most_common(1)\n",
    "    #print(match[0][0])\n",
    "    return match[0][0]"
   ]
  },
  {
   "cell_type": "code",
   "execution_count": 17,
   "metadata": {},
   "outputs": [],
   "source": [
    "def predict(k):\n",
    "    y_pred = [prediction(x,k) for x in X_validation]\n",
    "    return np.array(y_pred)"
   ]
  },
  {
   "cell_type": "code",
   "execution_count": 18,
   "metadata": {},
   "outputs": [],
   "source": [
    "def predict_euclidean(k):\n",
    "    y_pred = [prediction(x,k) for x in X_test]\n",
    "    return np.array(y_pred)"
   ]
  },
  {
   "cell_type": "code",
   "execution_count": 19,
   "metadata": {},
   "outputs": [],
   "source": [
    "def predict_manhattan(k):\n",
    "    y_pred = [prediction_manhattan(x,k) for x in X_validation]\n",
    "    return np.array(y_pred)"
   ]
  },
  {
   "cell_type": "code",
   "execution_count": 20,
   "metadata": {},
   "outputs": [],
   "source": [
    "df = pd.read_csv('/media/indranil/New Volume1/second sem/SMAI/Assignment 1/q1/dataset/train.csv',header = None)\n",
    "rng = RandomState()\n",
    "train = df.sample(frac=0.8,random_state = rng)\n",
    "validation = df.loc[~df.index.isin(train.index)]\n",
    "X_train,Y_train = train.iloc[:,1:], train.iloc[:,0]\n",
    "X_validation,Y_validation = validation.iloc[:, 1:], validation.iloc[:,0]\n",
    "X_train = np.array(X_train)\n",
    "Y_train = np.array(Y_train)\n",
    "X_validation = np.array(X_validation)\n",
    "Y_validation = np.array(Y_validation)"
   ]
  },
  {
   "cell_type": "markdown",
   "metadata": {},
   "source": [
    "# Prediction on test data set with K =3 on euclidean distance classifier as its accuracy is higher than other experiments."
   ]
  },
  {
   "cell_type": "code",
   "execution_count": 31,
   "metadata": {},
   "outputs": [
    {
     "data": {
      "text/plain": [
       "0.961"
      ]
     },
     "execution_count": 31,
     "metadata": {},
     "output_type": "execute_result"
    }
   ],
   "source": [
    "df_test = pd.read_csv('/media/indranil/New Volume1/second sem/SMAI/Assignment 1/q1/dataset/test.csv',header = None)\n",
    "#print(df_test.shape)\n",
    "X_test = df_test.to_numpy()\n",
    "#print(len(X_test))\n",
    "Y_temp_test = list()\n",
    "with open(\"/media/indranil/New Volume1/second sem/SMAI/Assignment 1/q1/dataset/test_labels.csv\") as f:\n",
    "  for line in f:\n",
    "    if(line == '\\n'):\n",
    "        continue\n",
    "    Y_temp_test.append(int(line))\n",
    "Y_test = np.array(Y_temp_test)\n",
    "predictions_k = predict_euclidean(4)\n",
    "accuracy(Y_test, predictions_k)"
   ]
  },
  {
   "cell_type": "markdown",
   "metadata": {},
   "source": [
    "# Confusion Matrix using k = 3"
   ]
  },
  {
   "cell_type": "code",
   "execution_count": 33,
   "metadata": {},
   "outputs": [
    {
     "name": "stdout",
     "output_type": "stream",
     "text": [
      "[[ 92   0   0   0   0   1   1   0   0   0]\n",
      " [  0 100   0   1   0   0   0   0   0   0]\n",
      " [  0   0 105   1   0   0   0   2   0   0]\n",
      " [  0   0   0 107   0   1   0   0   0   0]\n",
      " [  0   1   0   0  82   0   1   0   0   7]\n",
      " [  0   1   0   1   0  78   0   0   1   0]\n",
      " [  0   0   0   0   0   0 101   0   0   0]\n",
      " [  0   2   1   0   1   0   0  98   0   2]\n",
      " [  1   1   1   1   0   3   0   0  93   0]\n",
      " [  1   0   1   0   2   1   0   1   1 105]]\n"
     ]
    }
   ],
   "source": [
    "print(confusion_matrix(Y_test, predictions_k))"
   ]
  },
  {
   "cell_type": "markdown",
   "metadata": {},
   "source": [
    "# Classification Report using k = 3"
   ]
  },
  {
   "cell_type": "code",
   "execution_count": 34,
   "metadata": {},
   "outputs": [
    {
     "name": "stdout",
     "output_type": "stream",
     "text": [
      "              precision    recall  f1-score   support\n",
      "\n",
      "           0       0.98      0.98      0.98        94\n",
      "           1       0.95      0.99      0.97       101\n",
      "           2       0.97      0.97      0.97       108\n",
      "           3       0.96      0.99      0.98       108\n",
      "           4       0.96      0.90      0.93        91\n",
      "           5       0.93      0.96      0.95        81\n",
      "           6       0.98      1.00      0.99       101\n",
      "           7       0.97      0.94      0.96       104\n",
      "           8       0.98      0.93      0.95       100\n",
      "           9       0.92      0.94      0.93       112\n",
      "\n",
      "    accuracy                           0.96      1000\n",
      "   macro avg       0.96      0.96      0.96      1000\n",
      "weighted avg       0.96      0.96      0.96      1000\n",
      "\n"
     ]
    }
   ],
   "source": [
    "print(classification_report(Y_test, predictions_k))"
   ]
  },
  {
   "cell_type": "markdown",
   "metadata": {},
   "source": [
    "# Classification using scikit-learn’s kNN classifier"
   ]
  },
  {
   "cell_type": "code",
   "execution_count": 32,
   "metadata": {},
   "outputs": [
    {
     "data": {
      "text/plain": [
       "0.956"
      ]
     },
     "execution_count": 32,
     "metadata": {},
     "output_type": "execute_result"
    }
   ],
   "source": [
    "classifier = KNeighborsClassifier(n_neighbors=4)\n",
    "classifier.fit(X_train, Y_train)\n",
    "knn_pred = classifier.predict(X_test)\n",
    "accuracy(Y_test,knn_pred)"
   ]
  },
  {
   "cell_type": "markdown",
   "metadata": {},
   "source": [
    "# Confusion matrix with Sklearn knn classifier"
   ]
  },
  {
   "cell_type": "code",
   "execution_count": 35,
   "metadata": {},
   "outputs": [
    {
     "name": "stdout",
     "output_type": "stream",
     "text": [
      "[[ 92   0   0   0   0   1   1   0   0   0]\n",
      " [  0 100   0   1   0   0   0   0   0   0]\n",
      " [  0   0 106   0   0   0   0   2   0   0]\n",
      " [  0   0   0 107   0   1   0   0   0   0]\n",
      " [  0   1   0   0  83   0   1   0   0   6]\n",
      " [  0   1   0   1   0  78   0   0   1   0]\n",
      " [  0   0   0   0   0   0 101   0   0   0]\n",
      " [  0   4   1   0   2   0   0  95   0   2]\n",
      " [  1   1   1   1   0   4   0   0  92   0]\n",
      " [  2   0   1   0   3   1   0   2   1 102]]\n"
     ]
    }
   ],
   "source": [
    "print(confusion_matrix(Y_test, knn_pred))"
   ]
  },
  {
   "cell_type": "markdown",
   "metadata": {},
   "source": [
    "# Classification report with sklearn KNN classifier"
   ]
  },
  {
   "cell_type": "code",
   "execution_count": 36,
   "metadata": {},
   "outputs": [
    {
     "name": "stdout",
     "output_type": "stream",
     "text": [
      "              precision    recall  f1-score   support\n",
      "\n",
      "           0       0.97      0.98      0.97        94\n",
      "           1       0.93      0.99      0.96       101\n",
      "           2       0.97      0.98      0.98       108\n",
      "           3       0.97      0.99      0.98       108\n",
      "           4       0.94      0.91      0.93        91\n",
      "           5       0.92      0.96      0.94        81\n",
      "           6       0.98      1.00      0.99       101\n",
      "           7       0.96      0.91      0.94       104\n",
      "           8       0.98      0.92      0.95       100\n",
      "           9       0.93      0.91      0.92       112\n",
      "\n",
      "    accuracy                           0.96      1000\n",
      "   macro avg       0.96      0.96      0.96      1000\n",
      "weighted avg       0.96      0.96      0.96      1000\n",
      "\n"
     ]
    }
   ],
   "source": [
    "print(classification_report(Y_test, knn_pred))"
   ]
  },
  {
   "cell_type": "markdown",
   "metadata": {},
   "source": [
    "Accuracy using euclidean distance with k = 3"
   ]
  },
  {
   "cell_type": "code",
   "execution_count": 21,
   "metadata": {},
   "outputs": [
    {
     "data": {
      "text/plain": [
       "0.9595"
      ]
     },
     "execution_count": 21,
     "metadata": {},
     "output_type": "execute_result"
    }
   ],
   "source": [
    "predictions_3 = predict(3)\n",
    "accuracy(Y_validation, predictions_3)"
   ]
  },
  {
   "cell_type": "markdown",
   "metadata": {},
   "source": [
    "Accuracy using euclidean distance with k = 2"
   ]
  },
  {
   "cell_type": "code",
   "execution_count": 22,
   "metadata": {},
   "outputs": [
    {
     "data": {
      "text/plain": [
       "0.9555"
      ]
     },
     "execution_count": 22,
     "metadata": {},
     "output_type": "execute_result"
    }
   ],
   "source": [
    "predictions_2 = predict(2)\n",
    "accuracy(Y_validation, predictions_2)"
   ]
  },
  {
   "cell_type": "markdown",
   "metadata": {},
   "source": [
    "Accuracy using euclidean distance with k = 1"
   ]
  },
  {
   "cell_type": "code",
   "execution_count": 23,
   "metadata": {},
   "outputs": [
    {
     "data": {
      "text/plain": [
       "0.9555"
      ]
     },
     "execution_count": 23,
     "metadata": {},
     "output_type": "execute_result"
    }
   ],
   "source": [
    "predictions_1 = predict(1)\n",
    "accuracy(Y_validation, predictions_1)"
   ]
  },
  {
   "cell_type": "markdown",
   "metadata": {},
   "source": [
    "Accuracy using euclidean distance with k = 4"
   ]
  },
  {
   "cell_type": "code",
   "execution_count": 24,
   "metadata": {},
   "outputs": [
    {
     "data": {
      "text/plain": [
       "0.96"
      ]
     },
     "execution_count": 24,
     "metadata": {},
     "output_type": "execute_result"
    }
   ],
   "source": [
    "predictions_4 = predict(4)\n",
    "accuracy(Y_validation, predictions_4)"
   ]
  },
  {
   "cell_type": "markdown",
   "metadata": {},
   "source": [
    "Accuracy using euclidean distance with k = 5"
   ]
  },
  {
   "cell_type": "code",
   "execution_count": 25,
   "metadata": {},
   "outputs": [
    {
     "data": {
      "text/plain": [
       "0.959"
      ]
     },
     "execution_count": 25,
     "metadata": {},
     "output_type": "execute_result"
    }
   ],
   "source": [
    "predictions_5 = predict(5)\n",
    "accuracy(Y_validation, predictions_5)"
   ]
  },
  {
   "cell_type": "markdown",
   "metadata": {},
   "source": [
    "Accuracy using manhattan distance with k = 1"
   ]
  },
  {
   "cell_type": "code",
   "execution_count": 26,
   "metadata": {},
   "outputs": [
    {
     "data": {
      "text/plain": [
       "0.949"
      ]
     },
     "execution_count": 26,
     "metadata": {},
     "output_type": "execute_result"
    }
   ],
   "source": [
    "man_predictions_1 = predict_manhattan(1)\n",
    "accuracy(Y_validation, man_predictions_1)"
   ]
  },
  {
   "cell_type": "markdown",
   "metadata": {},
   "source": [
    "Accuracy using manhattan distance with k = 2"
   ]
  },
  {
   "cell_type": "code",
   "execution_count": 27,
   "metadata": {},
   "outputs": [
    {
     "data": {
      "text/plain": [
       "0.949"
      ]
     },
     "execution_count": 27,
     "metadata": {},
     "output_type": "execute_result"
    }
   ],
   "source": [
    "man_predictions_2 = predict_manhattan(2)\n",
    "accuracy(Y_validation, man_predictions_2)"
   ]
  },
  {
   "cell_type": "markdown",
   "metadata": {},
   "source": [
    "Accuracy using manhattan distance with k = 3"
   ]
  },
  {
   "cell_type": "code",
   "execution_count": 28,
   "metadata": {},
   "outputs": [
    {
     "data": {
      "text/plain": [
       "0.95175"
      ]
     },
     "execution_count": 28,
     "metadata": {},
     "output_type": "execute_result"
    }
   ],
   "source": [
    "man_predictions_3 = predict_manhattan(3)\n",
    "accuracy(Y_validation, man_predictions_3)"
   ]
  },
  {
   "cell_type": "markdown",
   "metadata": {},
   "source": [
    "Accuracy using manhattan distance with k = 4"
   ]
  },
  {
   "cell_type": "code",
   "execution_count": 29,
   "metadata": {},
   "outputs": [
    {
     "data": {
      "text/plain": [
       "0.95375"
      ]
     },
     "execution_count": 29,
     "metadata": {},
     "output_type": "execute_result"
    }
   ],
   "source": [
    "man_predictions_4 = predict_manhattan(4)\n",
    "accuracy(Y_validation, man_predictions_4)"
   ]
  },
  {
   "cell_type": "markdown",
   "metadata": {},
   "source": [
    "Accuracy using manhattan distance with k = 5"
   ]
  },
  {
   "cell_type": "code",
   "execution_count": 30,
   "metadata": {},
   "outputs": [
    {
     "data": {
      "text/plain": [
       "0.95275"
      ]
     },
     "execution_count": 30,
     "metadata": {},
     "output_type": "execute_result"
    }
   ],
   "source": [
    "man_predictions_5 = predict_manhattan(5)\n",
    "accuracy(Y_validation, man_predictions_5)"
   ]
  },
  {
   "cell_type": "markdown",
   "metadata": {},
   "source": [
    "# With my own classifier setting k = 4 the accuracy is 0.96 on test data set. with sklearn classifier the accuracy is 0.956 on test data."
   ]
  },
  {
   "cell_type": "markdown",
   "metadata": {},
   "source": [
    "# Plotting of graph using different K value for eulclidean distance measurement"
   ]
  },
  {
   "cell_type": "code",
   "execution_count": 39,
   "metadata": {},
   "outputs": [
    {
     "data": {
      "text/plain": [
       "Text(0, 0.5, 'Testing Accuracy')"
      ]
     },
     "execution_count": 39,
     "metadata": {},
     "output_type": "execute_result"
    },
    {
     "data": {
      "image/png": "[encoded data removed]",
      "text/plain": [
       "<Figure size 432x288 with 1 Axes>"
      ]
     },
     "metadata": {
      "needs_background": "light"
     },
     "output_type": "display_data"
    }
   ],
   "source": [
    "k = [1,2,3,4,5]\n",
    "euc_list= [0.9555,0.9555,0.9595,0.96,0.959]\n",
    "plt.plot(k,euc_list)\n",
    "plt.xlabel(\"Value of K\")\n",
    "plt.ylabel(\"Testing Accuracy\")"
   ]
  },
  {
   "cell_type": "markdown",
   "metadata": {},
   "source": [
    "# Plotting of graph using different K value for manhattan distance measurement"
   ]
  },
  {
   "cell_type": "code",
   "execution_count": 40,
   "metadata": {},
   "outputs": [
    {
     "data": {
      "text/plain": [
       "Text(0, 0.5, 'Testing Accuracy')"
      ]
     },
     "execution_count": 40,
     "metadata": {},
     "output_type": "execute_result"
    },
    {
     "data": {
      "image/png": "[encoded data removed]",
      "text/plain": [
       "<Figure size 432x288 with 1 Axes>"
      ]
     },
     "metadata": {
      "needs_background": "light"
     },
     "output_type": "display_data"
    }
   ],
   "source": [
    "k = [1,2,3,4,5]\n",
    "man_list= [0.949,0.949,0.95175,0.95375,0.95275]\n",
    "plt.plot(k,man_list)\n",
    "plt.xlabel(\"Value of K\")\n",
    "plt.ylabel(\"Testing Accuracy\")"
   ]
  },
  {
   "cell_type": "code",
   "execution_count": null,
   "metadata": {},
   "outputs": [],
   "source": []
  }
 ],
 "metadata": {
  "kernelspec": {
   "display_name": "Python 3",
   "language": "python",
   "name": "python3"
  },
  "language_info": {
   "codemirror_mode": {
    "name": "ipython",
    "version": 3
   },
   "file_extension": ".py",
   "mimetype": "text/x-python",
   "name": "python",
   "nbconvert_exporter": "python",
   "pygments_lexer": "ipython3",
   "version": "3.6.9"
  }
 },
 "nbformat": 4,
 "nbformat_minor": 4
}
